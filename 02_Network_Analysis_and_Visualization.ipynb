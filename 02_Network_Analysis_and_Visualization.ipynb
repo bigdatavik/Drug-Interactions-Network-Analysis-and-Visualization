{
 "cells": [
  {
   "cell_type": "markdown",
   "metadata": {},
   "source": [
    "# Drug Interactions Network Analysis\n",
    "**Part 2 - Network Visualization with PyVis**"
   ]
  },
  {
   "cell_type": "markdown",
   "metadata": {},
   "source": [
    "___\n",
    "### 1. Import dependencies"
   ]
  },
  {
   "cell_type": "code",
   "execution_count": 1,
   "metadata": {},
   "outputs": [
    {
     "data": {
      "text/html": [
       "<style>.container { width:100% !important; }</style>"
      ],
      "text/plain": [
       "<IPython.core.display.HTML object>"
      ]
     },
     "metadata": {},
     "output_type": "display_data"
    }
   ],
   "source": [
    "import pandas as pd\n",
    "import numpy as np\n",
    "import re\n",
    "import zipfile\n",
    "import json\n",
    "from pyvis.network import Network\n",
    "import networkx as nx\n",
    "\n",
    "from IPython.core.display import display, HTML\n",
    "display(HTML(\"<style>.container { width:100% !important; }</style>\"))"
   ]
  },
  {
   "cell_type": "markdown",
   "metadata": {},
   "source": [
    "___\n",
    "### 2. Data preparation"
   ]
  },
  {
   "cell_type": "code",
   "execution_count": 2,
   "metadata": {},
   "outputs": [
    {
     "data": {
      "application/javascript": [
       "\n",
       "        if (window._pyforest_update_imports_cell) { window._pyforest_update_imports_cell('import os'); }\n",
       "    "
      ],
      "text/plain": [
       "<IPython.core.display.Javascript object>"
      ]
     },
     "metadata": {},
     "output_type": "display_data"
    }
   ],
   "source": [
    "# Unzip all tar/zip files\n",
    "zip_files_list = [i for i in os.listdir('data') if i.endswith('.zip')]\n",
    "\n",
    "for file in zip_files_list:\n",
    "    with zipfile.ZipFile(f'data/{file}', 'r') as zip_ref:\n",
    "        zip_ref.extractall('data')"
   ]
  },
  {
   "cell_type": "markdown",
   "metadata": {},
   "source": [
    "#### Drug Interactions (Drugbank)"
   ]
  },
  {
   "cell_type": "code",
   "execution_count": 3,
   "metadata": {},
   "outputs": [],
   "source": [
    "# Read DB mapping JSON\n",
    "with open('data/DB_mapping.json', 'r') as fp:\n",
    "    db_mapping = json.load(fp)"
   ]
  },
  {
   "cell_type": "code",
   "execution_count": 4,
   "metadata": {},
   "outputs": [
    {
     "data": {
      "text/html": [
       "<div>\n",
       "<style scoped>\n",
       "    .dataframe tbody tr th:only-of-type {\n",
       "        vertical-align: middle;\n",
       "    }\n",
       "\n",
       "    .dataframe tbody tr th {\n",
       "        vertical-align: top;\n",
       "    }\n",
       "\n",
       "    .dataframe thead th {\n",
       "        text-align: right;\n",
       "    }\n",
       "</style>\n",
       "<table border=\"1\" class=\"dataframe\">\n",
       "  <thead>\n",
       "    <tr style=\"text-align: right;\">\n",
       "      <th></th>\n",
       "      <th>drug_1_code</th>\n",
       "      <th>drug_1_name</th>\n",
       "      <th>drug_2_code</th>\n",
       "      <th>drug_2_name</th>\n",
       "    </tr>\n",
       "  </thead>\n",
       "  <tbody>\n",
       "    <tr>\n",
       "      <th>0</th>\n",
       "      <td>DB00862</td>\n",
       "      <td>Vardenafil</td>\n",
       "      <td>DB00966</td>\n",
       "      <td>Telmisartan</td>\n",
       "    </tr>\n",
       "    <tr>\n",
       "      <th>1</th>\n",
       "      <td>DB00575</td>\n",
       "      <td>Clonidine</td>\n",
       "      <td>DB00806</td>\n",
       "      <td>Pentoxifylline</td>\n",
       "    </tr>\n",
       "    <tr>\n",
       "      <th>2</th>\n",
       "      <td>DB01242</td>\n",
       "      <td>Clomipramine</td>\n",
       "      <td>DB08893</td>\n",
       "      <td>Mirabegron</td>\n",
       "    </tr>\n",
       "    <tr>\n",
       "      <th>3</th>\n",
       "      <td>DB01151</td>\n",
       "      <td>Desipramine</td>\n",
       "      <td>DB08883</td>\n",
       "      <td>Perampanel</td>\n",
       "    </tr>\n",
       "    <tr>\n",
       "      <th>4</th>\n",
       "      <td>DB01235</td>\n",
       "      <td>Levodopa</td>\n",
       "      <td>DB01275</td>\n",
       "      <td>Hydralazine</td>\n",
       "    </tr>\n",
       "  </tbody>\n",
       "</table>\n",
       "</div>"
      ],
      "text/plain": [
       "  drug_1_code   drug_1_name drug_2_code     drug_2_name\n",
       "0     DB00862    Vardenafil     DB00966     Telmisartan\n",
       "1     DB00575     Clonidine     DB00806  Pentoxifylline\n",
       "2     DB01242  Clomipramine     DB08893      Mirabegron\n",
       "3     DB01151   Desipramine     DB08883      Perampanel\n",
       "4     DB01235      Levodopa     DB01275     Hydralazine"
      ]
     },
     "execution_count": 4,
     "metadata": {},
     "output_type": "execute_result"
    }
   ],
   "source": [
    "# Import raw drugbank dataset\n",
    "df_db_int = pd.read_csv(\"data/ChCh-Miner_durgbank-chem-chem.tsv\", sep='\\t', header=None)\n",
    "df_db_int.columns = ['drug_1_code', 'drug_2_code']\n",
    "\n",
    "# Perform code-name mapping\n",
    "df_db_int['drug_1_name'] = df_db_int['drug_1_code'].map(db_mapping)\n",
    "df_db_int['drug_2_name'] = df_db_int['drug_2_code'].map(db_mapping)\n",
    "\n",
    "new_cols = ['drug_1_code', 'drug_1_name', 'drug_2_code', 'drug_2_name']\n",
    "\n",
    "# Clean data \n",
    "df_db_int = df_db_int[~df_db_int['drug_1_name'].isin(['This record has been revoked'])]\n",
    "df_db_int = df_db_int[~df_db_int['drug_2_name'].isin(['This record has been revoked'])]\n",
    "\n",
    "df_db_int = df_db_int[new_cols]\n",
    "df_db_int.head()"
   ]
  },
  {
   "cell_type": "markdown",
   "metadata": {},
   "source": [
    "#### 2(b) Polypharmacy side effects"
   ]
  },
  {
   "cell_type": "code",
   "execution_count": 5,
   "metadata": {},
   "outputs": [],
   "source": [
    "# Read CID mapping JSON\n",
    "with open('data/CID_mapping.json', 'r') as fp:\n",
    "    cid_mapping = json.load(fp)"
   ]
  },
  {
   "cell_type": "code",
   "execution_count": 6,
   "metadata": {},
   "outputs": [
    {
     "data": {
      "text/html": [
       "<div>\n",
       "<style scoped>\n",
       "    .dataframe tbody tr th:only-of-type {\n",
       "        vertical-align: middle;\n",
       "    }\n",
       "\n",
       "    .dataframe tbody tr th {\n",
       "        vertical-align: top;\n",
       "    }\n",
       "\n",
       "    .dataframe thead th {\n",
       "        text-align: right;\n",
       "    }\n",
       "</style>\n",
       "<table border=\"1\" class=\"dataframe\">\n",
       "  <thead>\n",
       "    <tr style=\"text-align: right;\">\n",
       "      <th></th>\n",
       "      <th>drug_1_code</th>\n",
       "      <th>drug_1_name</th>\n",
       "      <th>drug_2_code</th>\n",
       "      <th>drug_2_name</th>\n",
       "      <th>side_effect_code</th>\n",
       "      <th>side_effect_description</th>\n",
       "    </tr>\n",
       "  </thead>\n",
       "  <tbody>\n",
       "    <tr>\n",
       "      <th>0</th>\n",
       "      <td>CID000002173</td>\n",
       "      <td>6-{[Amino(phenyl)acetyl]amino}-3,3-dimethyl-7-...</td>\n",
       "      <td>CID000003345</td>\n",
       "      <td>Fentanyl</td>\n",
       "      <td>C0151714</td>\n",
       "      <td>hypermagnesemia</td>\n",
       "    </tr>\n",
       "    <tr>\n",
       "      <th>1</th>\n",
       "      <td>CID000002173</td>\n",
       "      <td>6-{[Amino(phenyl)acetyl]amino}-3,3-dimethyl-7-...</td>\n",
       "      <td>CID000003345</td>\n",
       "      <td>Fentanyl</td>\n",
       "      <td>C0035344</td>\n",
       "      <td>retinopathy of prematurity</td>\n",
       "    </tr>\n",
       "    <tr>\n",
       "      <th>2</th>\n",
       "      <td>CID000002173</td>\n",
       "      <td>6-{[Amino(phenyl)acetyl]amino}-3,3-dimethyl-7-...</td>\n",
       "      <td>CID000003345</td>\n",
       "      <td>Fentanyl</td>\n",
       "      <td>C0004144</td>\n",
       "      <td>atelectasis</td>\n",
       "    </tr>\n",
       "    <tr>\n",
       "      <th>3</th>\n",
       "      <td>CID000002173</td>\n",
       "      <td>6-{[Amino(phenyl)acetyl]amino}-3,3-dimethyl-7-...</td>\n",
       "      <td>CID000003345</td>\n",
       "      <td>Fentanyl</td>\n",
       "      <td>C0002063</td>\n",
       "      <td>alkalosis</td>\n",
       "    </tr>\n",
       "    <tr>\n",
       "      <th>4</th>\n",
       "      <td>CID000002173</td>\n",
       "      <td>6-{[Amino(phenyl)acetyl]amino}-3,3-dimethyl-7-...</td>\n",
       "      <td>CID000003345</td>\n",
       "      <td>Fentanyl</td>\n",
       "      <td>C0004604</td>\n",
       "      <td>Back Ache</td>\n",
       "    </tr>\n",
       "  </tbody>\n",
       "</table>\n",
       "</div>"
      ],
      "text/plain": [
       "    drug_1_code                                        drug_1_name  \\\n",
       "0  CID000002173  6-{[Amino(phenyl)acetyl]amino}-3,3-dimethyl-7-...   \n",
       "1  CID000002173  6-{[Amino(phenyl)acetyl]amino}-3,3-dimethyl-7-...   \n",
       "2  CID000002173  6-{[Amino(phenyl)acetyl]amino}-3,3-dimethyl-7-...   \n",
       "3  CID000002173  6-{[Amino(phenyl)acetyl]amino}-3,3-dimethyl-7-...   \n",
       "4  CID000002173  6-{[Amino(phenyl)acetyl]amino}-3,3-dimethyl-7-...   \n",
       "\n",
       "    drug_2_code drug_2_name side_effect_code     side_effect_description  \n",
       "0  CID000003345    Fentanyl         C0151714             hypermagnesemia  \n",
       "1  CID000003345    Fentanyl         C0035344  retinopathy of prematurity  \n",
       "2  CID000003345    Fentanyl         C0004144                 atelectasis  \n",
       "3  CID000003345    Fentanyl         C0002063                   alkalosis  \n",
       "4  CID000003345    Fentanyl         C0004604                   Back Ache  "
      ]
     },
     "execution_count": 6,
     "metadata": {},
     "output_type": "execute_result"
    }
   ],
   "source": [
    "# Import dataset\n",
    "df_poly_se = pd.read_csv(\"data/ChChSe-Decagon_polypharmacy.csv\")\n",
    "df_poly_se.columns = ['drug_1_code', 'drug_2_code', 'side_effect_code', 'side_effect_description']\n",
    "\n",
    "# Perform code-name mapping\n",
    "df_poly_se['drug_1_name'] = df_poly_se['drug_1_code'].map(cid_mapping)\n",
    "df_poly_se['drug_2_name'] = df_poly_se['drug_2_code'].map(cid_mapping)\n",
    "\n",
    "# Rearrange columns\n",
    "new_cols = ['drug_1_code', 'drug_1_name', 'drug_2_code', 'drug_2_name', \n",
    "            'side_effect_code', 'side_effect_description']\n",
    "\n",
    "df_poly_se = df_poly_se[new_cols]\n",
    "df_poly_se.head()"
   ]
  },
  {
   "cell_type": "markdown",
   "metadata": {},
   "source": [
    "#### 2(c) Monopharmacy side effects"
   ]
  },
  {
   "cell_type": "code",
   "execution_count": 7,
   "metadata": {},
   "outputs": [
    {
     "data": {
      "text/html": [
       "<div>\n",
       "<style scoped>\n",
       "    .dataframe tbody tr th:only-of-type {\n",
       "        vertical-align: middle;\n",
       "    }\n",
       "\n",
       "    .dataframe tbody tr th {\n",
       "        vertical-align: top;\n",
       "    }\n",
       "\n",
       "    .dataframe thead th {\n",
       "        text-align: right;\n",
       "    }\n",
       "</style>\n",
       "<table border=\"1\" class=\"dataframe\">\n",
       "  <thead>\n",
       "    <tr style=\"text-align: right;\">\n",
       "      <th></th>\n",
       "      <th>drug_code</th>\n",
       "      <th>drug_name</th>\n",
       "      <th>side_effect_code</th>\n",
       "      <th>side_effect_description</th>\n",
       "    </tr>\n",
       "  </thead>\n",
       "  <tbody>\n",
       "    <tr>\n",
       "      <th>0</th>\n",
       "      <td>CID003062316</td>\n",
       "      <td>Dasatinib</td>\n",
       "      <td>C1096328</td>\n",
       "      <td>central nervous system mass</td>\n",
       "    </tr>\n",
       "    <tr>\n",
       "      <th>1</th>\n",
       "      <td>CID003062316</td>\n",
       "      <td>Dasatinib</td>\n",
       "      <td>C0162830</td>\n",
       "      <td>Photosensitivity reaction</td>\n",
       "    </tr>\n",
       "    <tr>\n",
       "      <th>2</th>\n",
       "      <td>CID003062316</td>\n",
       "      <td>Dasatinib</td>\n",
       "      <td>C1611725</td>\n",
       "      <td>leukaemic infiltration brain</td>\n",
       "    </tr>\n",
       "    <tr>\n",
       "      <th>3</th>\n",
       "      <td>CID003062316</td>\n",
       "      <td>Dasatinib</td>\n",
       "      <td>C0541767</td>\n",
       "      <td>platelet adhesiveness abnormal</td>\n",
       "    </tr>\n",
       "    <tr>\n",
       "      <th>4</th>\n",
       "      <td>CID003062316</td>\n",
       "      <td>Dasatinib</td>\n",
       "      <td>C0242973</td>\n",
       "      <td>Ventricular dysfunction</td>\n",
       "    </tr>\n",
       "  </tbody>\n",
       "</table>\n",
       "</div>"
      ],
      "text/plain": [
       "      drug_code  drug_name side_effect_code         side_effect_description\n",
       "0  CID003062316  Dasatinib         C1096328     central nervous system mass\n",
       "1  CID003062316  Dasatinib         C0162830       Photosensitivity reaction\n",
       "2  CID003062316  Dasatinib         C1611725    leukaemic infiltration brain\n",
       "3  CID003062316  Dasatinib         C0541767  platelet adhesiveness abnormal\n",
       "4  CID003062316  Dasatinib         C0242973         Ventricular dysfunction"
      ]
     },
     "execution_count": 7,
     "metadata": {},
     "output_type": "execute_result"
    }
   ],
   "source": [
    "df_mono_se = pd.read_csv(\"data/ChSe-Decagon_monopharmacy.csv\")\n",
    "\n",
    "# Import dataset\n",
    "df_mono_se = pd.read_csv(\"data/ChSe-Decagon_monopharmacy.csv\")\n",
    "df_mono_se.columns = ['drug_code', 'side_effect_code', 'side_effect_description']\n",
    "\n",
    "# Perform code-name mapping\n",
    "df_mono_se['drug_name'] = df_mono_se['drug_code'].map(cid_mapping)\n",
    "\n",
    "# Rearrange columns\n",
    "new_cols = ['drug_code', 'drug_name', 'side_effect_code', 'side_effect_description']\n",
    "\n",
    "df_mono_se = df_mono_se[new_cols]\n",
    "df_mono_se.head()"
   ]
  },
  {
   "cell_type": "markdown",
   "metadata": {},
   "source": [
    "### 3. Network Analysis (with NetworkX)"
   ]
  },
  {
   "cell_type": "markdown",
   "metadata": {},
   "source": [
    "#### Drug Bank Drug Interactions"
   ]
  },
  {
   "cell_type": "code",
   "execution_count": 17,
   "metadata": {},
   "outputs": [
    {
     "data": {
      "text/html": [
       "<div>\n",
       "<style scoped>\n",
       "    .dataframe tbody tr th:only-of-type {\n",
       "        vertical-align: middle;\n",
       "    }\n",
       "\n",
       "    .dataframe tbody tr th {\n",
       "        vertical-align: top;\n",
       "    }\n",
       "\n",
       "    .dataframe thead th {\n",
       "        text-align: right;\n",
       "    }\n",
       "</style>\n",
       "<table border=\"1\" class=\"dataframe\">\n",
       "  <thead>\n",
       "    <tr style=\"text-align: right;\">\n",
       "      <th></th>\n",
       "      <th>drug_1_code</th>\n",
       "      <th>drug_1_name</th>\n",
       "      <th>drug_2_code</th>\n",
       "      <th>drug_2_name</th>\n",
       "      <th>weight</th>\n",
       "    </tr>\n",
       "  </thead>\n",
       "  <tbody>\n",
       "    <tr>\n",
       "      <th>0</th>\n",
       "      <td>DB00862</td>\n",
       "      <td>Vardenafil</td>\n",
       "      <td>DB00966</td>\n",
       "      <td>Telmisartan</td>\n",
       "      <td>1</td>\n",
       "    </tr>\n",
       "    <tr>\n",
       "      <th>1</th>\n",
       "      <td>DB00575</td>\n",
       "      <td>Clonidine</td>\n",
       "      <td>DB00806</td>\n",
       "      <td>Pentoxifylline</td>\n",
       "      <td>1</td>\n",
       "    </tr>\n",
       "    <tr>\n",
       "      <th>2</th>\n",
       "      <td>DB01242</td>\n",
       "      <td>Clomipramine</td>\n",
       "      <td>DB08893</td>\n",
       "      <td>Mirabegron</td>\n",
       "      <td>1</td>\n",
       "    </tr>\n",
       "    <tr>\n",
       "      <th>3</th>\n",
       "      <td>DB01151</td>\n",
       "      <td>Desipramine</td>\n",
       "      <td>DB08883</td>\n",
       "      <td>Perampanel</td>\n",
       "      <td>1</td>\n",
       "    </tr>\n",
       "    <tr>\n",
       "      <th>4</th>\n",
       "      <td>DB01235</td>\n",
       "      <td>Levodopa</td>\n",
       "      <td>DB01275</td>\n",
       "      <td>Hydralazine</td>\n",
       "      <td>1</td>\n",
       "    </tr>\n",
       "  </tbody>\n",
       "</table>\n",
       "</div>"
      ],
      "text/plain": [
       "  drug_1_code   drug_1_name drug_2_code     drug_2_name  weight\n",
       "0     DB00862    Vardenafil     DB00966     Telmisartan       1\n",
       "1     DB00575     Clonidine     DB00806  Pentoxifylline       1\n",
       "2     DB01242  Clomipramine     DB08893      Mirabegron       1\n",
       "3     DB01151   Desipramine     DB08883      Perampanel       1\n",
       "4     DB01235      Levodopa     DB01275     Hydralazine       1"
      ]
     },
     "execution_count": 17,
     "metadata": {},
     "output_type": "execute_result"
    }
   ],
   "source": [
    "df_db_int['weight'] = 1\n",
    "df_db_int.head()"
   ]
  },
  {
   "cell_type": "code",
   "execution_count": 18,
   "metadata": {},
   "outputs": [],
   "source": [
    "# Keep only drug name columns\n",
    "df_db_int = df_db_int[['drug_1_name', 'drug_1_name', 'weight']]"
   ]
  },
  {
   "cell_type": "markdown",
   "metadata": {},
   "source": [
    "___\n",
    "### 4. Network Visualization (with Pyvis)"
   ]
  },
  {
   "cell_type": "code",
   "execution_count": null,
   "metadata": {},
   "outputs": [],
   "source": [
    "# # Loads entire network for all drug interactions (Will take very long to load)\n",
    "# db_net = Network(height='700px', width='100%', \n",
    "#                  bgcolor='white', font_color='blue',\n",
    "#                  notebook=True)\n",
    "\n",
    "# # set the physics layout of the network\n",
    "# db_net.barnes_hut()\n",
    "\n",
    "# sources = df_db_int['drug_1_name']\n",
    "# targets = df_db_int['drug_2_name']\n",
    "# weights = df_db_int['weight']\n",
    "\n",
    "# edge_data = zip(sources, targets, weights)\n",
    "\n",
    "# for e in edge_data:\n",
    "#     src = e[0]\n",
    "#     dst = e[1]\n",
    "#     w = e[2]\n",
    "\n",
    "#     db_net.add_node(src, src, title=src)\n",
    "#     db_net.add_node(dst, dst, title=dst)\n",
    "#     db_net.add_edge(src, dst, value=w)\n",
    "\n",
    "# # Add neighbor data to node hover data\n",
    "# # neighbor_map = db_net.get_adj_list()\n",
    "\n",
    "# # for node in db_net.nodes:\n",
    "# #     node['title'] += ' Neighbors:<br>' + '<br>'.join(neighbor_map[node['id']])\n",
    "# #     node['value'] = len(neighbor_map[node['id']])\n",
    "\n",
    "# db_net.show('drug_interactions_db.html')"
   ]
  },
  {
   "cell_type": "markdown",
   "metadata": {},
   "source": [
    "___\n",
    "- Narrow down data for network visualization"
   ]
  },
  {
   "cell_type": "code",
   "execution_count": 13,
   "metadata": {},
   "outputs": [],
   "source": [
    "# Define list of oral medications for the common diseases: Diabetes, Hypertension and Hyperlipidemia\n",
    "dm_meds = ['Metformin', 'Linagliptin', 'Sitagliptin', 'Glibenclamide', 'Gliclazide',\n",
    "          'Glimepiride', 'Glipizide', 'Tolbutamide', 'Canagliflozin', 'Dapagliflozin',\n",
    "          'Empagliflozin', 'Dapagliflozin', 'Acarbose', 'Liraglutide']\n",
    "\n",
    "cardio_meds = ['Captopril', 'Enalapril', 'Lisinopril', 'Perindopril', 'Irbesartan',\n",
    "               'Losartan', 'Telmisartan', 'Valsartan', 'Candesartan', 'Atenolol', \n",
    "               'Bisoprolol', 'Carvedilol', 'Propranolol', 'Amlodipine', 'Diltiazem', \n",
    "               'Nifedipine', 'Verapamil', 'Bumetanide', 'Frusemide', 'Isosorbide',\n",
    "               'Hydrochlorothiazide', 'Spironolactone', 'Isosorbide Dinitrate', \n",
    "               'Isosorbide Mononitrate', 'Aspirin', 'Clopidogrel', 'Ticagrelor', \n",
    "               'Atorvastatin', 'Rosuvastatin', 'Simvastatin', 'Pravastatin']  \n",
    "\n",
    "random_meds = ['Warfarin', 'Simvastatin', 'Lisinopril']"
   ]
  },
  {
   "cell_type": "code",
   "execution_count": 14,
   "metadata": {},
   "outputs": [
    {
     "data": {
      "text/html": [
       "<div>\n",
       "<style scoped>\n",
       "    .dataframe tbody tr th:only-of-type {\n",
       "        vertical-align: middle;\n",
       "    }\n",
       "\n",
       "    .dataframe tbody tr th {\n",
       "        vertical-align: top;\n",
       "    }\n",
       "\n",
       "    .dataframe thead th {\n",
       "        text-align: right;\n",
       "    }\n",
       "</style>\n",
       "<table border=\"1\" class=\"dataframe\">\n",
       "  <thead>\n",
       "    <tr style=\"text-align: right;\">\n",
       "      <th></th>\n",
       "      <th>drug_1_code</th>\n",
       "      <th>drug_1_name</th>\n",
       "      <th>drug_2_code</th>\n",
       "      <th>drug_2_name</th>\n",
       "      <th>weight</th>\n",
       "    </tr>\n",
       "  </thead>\n",
       "  <tbody>\n",
       "    <tr>\n",
       "      <th>0</th>\n",
       "      <td>DB00396</td>\n",
       "      <td>Progesterone</td>\n",
       "      <td>DB00682</td>\n",
       "      <td>Warfarin</td>\n",
       "      <td>0.1</td>\n",
       "    </tr>\n",
       "    <tr>\n",
       "      <th>1</th>\n",
       "      <td>DB00682</td>\n",
       "      <td>Warfarin</td>\n",
       "      <td>DB06695</td>\n",
       "      <td>Dabigatran etexilate</td>\n",
       "      <td>0.1</td>\n",
       "    </tr>\n",
       "    <tr>\n",
       "      <th>2</th>\n",
       "      <td>DB00641</td>\n",
       "      <td>Simvastatin</td>\n",
       "      <td>DB09036</td>\n",
       "      <td>Siltuximab</td>\n",
       "      <td>0.1</td>\n",
       "    </tr>\n",
       "    <tr>\n",
       "      <th>3</th>\n",
       "      <td>DB00682</td>\n",
       "      <td>Warfarin</td>\n",
       "      <td>DB04855</td>\n",
       "      <td>Dronedarone</td>\n",
       "      <td>0.1</td>\n",
       "    </tr>\n",
       "    <tr>\n",
       "      <th>4</th>\n",
       "      <td>DB00322</td>\n",
       "      <td>Floxuridine</td>\n",
       "      <td>DB00682</td>\n",
       "      <td>Warfarin</td>\n",
       "      <td>0.1</td>\n",
       "    </tr>\n",
       "    <tr>\n",
       "      <th>...</th>\n",
       "      <td>...</td>\n",
       "      <td>...</td>\n",
       "      <td>...</td>\n",
       "      <td>...</td>\n",
       "      <td>...</td>\n",
       "    </tr>\n",
       "    <tr>\n",
       "      <th>480</th>\n",
       "      <td>DB00682</td>\n",
       "      <td>Warfarin</td>\n",
       "      <td>DB09070</td>\n",
       "      <td>Tibolone</td>\n",
       "      <td>0.1</td>\n",
       "    </tr>\n",
       "    <tr>\n",
       "      <th>481</th>\n",
       "      <td>DB00682</td>\n",
       "      <td>Warfarin</td>\n",
       "      <td>DB00686</td>\n",
       "      <td>Pentosan polysulfate</td>\n",
       "      <td>0.1</td>\n",
       "    </tr>\n",
       "    <tr>\n",
       "      <th>482</th>\n",
       "      <td>DB00682</td>\n",
       "      <td>Warfarin</td>\n",
       "      <td>DB01416</td>\n",
       "      <td>Cefpodoxime</td>\n",
       "      <td>0.1</td>\n",
       "    </tr>\n",
       "    <tr>\n",
       "      <th>483</th>\n",
       "      <td>DB00682</td>\n",
       "      <td>Warfarin</td>\n",
       "      <td>DB08912</td>\n",
       "      <td>Dabrafenib</td>\n",
       "      <td>0.1</td>\n",
       "    </tr>\n",
       "    <tr>\n",
       "      <th>484</th>\n",
       "      <td>DB00682</td>\n",
       "      <td>Warfarin</td>\n",
       "      <td>DB09270</td>\n",
       "      <td>Ubidecarenone</td>\n",
       "      <td>0.1</td>\n",
       "    </tr>\n",
       "  </tbody>\n",
       "</table>\n",
       "<p>485 rows × 5 columns</p>\n",
       "</div>"
      ],
      "text/plain": [
       "    drug_1_code   drug_1_name drug_2_code           drug_2_name  weight\n",
       "0       DB00396  Progesterone     DB00682              Warfarin     0.1\n",
       "1       DB00682      Warfarin     DB06695  Dabigatran etexilate     0.1\n",
       "2       DB00641   Simvastatin     DB09036            Siltuximab     0.1\n",
       "3       DB00682      Warfarin     DB04855           Dronedarone     0.1\n",
       "4       DB00322   Floxuridine     DB00682              Warfarin     0.1\n",
       "..          ...           ...         ...                   ...     ...\n",
       "480     DB00682      Warfarin     DB09070              Tibolone     0.1\n",
       "481     DB00682      Warfarin     DB00686  Pentosan polysulfate     0.1\n",
       "482     DB00682      Warfarin     DB01416           Cefpodoxime     0.1\n",
       "483     DB00682      Warfarin     DB08912            Dabrafenib     0.1\n",
       "484     DB00682      Warfarin     DB09270         Ubidecarenone     0.1\n",
       "\n",
       "[485 rows x 5 columns]"
      ]
     },
     "execution_count": 14,
     "metadata": {},
     "output_type": "execute_result"
    }
   ],
   "source": [
    "# Focus on specific meds\n",
    "df_db_int_sm = df_db_int.loc[df_db_int['drug_1_name'].isin(random_meds) | df_db_int['drug_2_name'].isin(random_meds)]\n",
    "df_db_int_sm = df_db_int_sm.reset_index(drop=True)\n",
    "df_db_int_sm"
   ]
  },
  {
   "cell_type": "code",
   "execution_count": 15,
   "metadata": {},
   "outputs": [
    {
     "data": {
      "text/html": [
       "\n",
       "        <iframe\n",
       "            width=\"100%\"\n",
       "            height=\"700px\"\n",
       "            src=\"drug_interactions_db.html\"\n",
       "            frameborder=\"0\"\n",
       "            allowfullscreen\n",
       "        ></iframe>\n",
       "        "
      ],
      "text/plain": [
       "<IPython.lib.display.IFrame at 0x2669b94bc40>"
      ]
     },
     "execution_count": 15,
     "metadata": {},
     "output_type": "execute_result"
    }
   ],
   "source": [
    "db_net_sm = Network(height='700px', width='100%', \n",
    "                    bgcolor='white', font_color='black',\n",
    "                    notebook=True)\n",
    "\n",
    "# set the physics layout of the network\n",
    "db_net_sm.barnes_hut(spring_strength=0,\n",
    "                    damping=0)\n",
    "\n",
    "sources = df_db_int_sm['drug_1_name']\n",
    "targets = df_db_int_sm['drug_2_name']\n",
    "weights = df_db_int_sm['weight']\n",
    "\n",
    "edge_data = zip(sources, targets, weights)\n",
    "\n",
    "for e in edge_data:\n",
    "    src = e[0]\n",
    "    dst = e[1]\n",
    "    w = e[2]\n",
    "\n",
    "    db_net_sm.add_node(src, src, title=src)\n",
    "    db_net_sm.add_node(dst, dst, title=dst)\n",
    "    db_net_sm.add_edge(src, dst, value=w)\n",
    "\n",
    "# Add neighbor data to node hover data\n",
    "neighbor_map = db_net_sm.get_adj_list()\n",
    "\n",
    "# for node in db_net_sm.nodes:\n",
    "#     node['title'] += ' <b>Neighbors:</b><br>' + '<br>'.join(neighbor_map[node['id']])\n",
    "#     node['value'] = len(neighbor_map[node['id']])\n",
    "\n",
    "db_net_sm.show('drug_interactions_db.html')"
   ]
  },
  {
   "cell_type": "code",
   "execution_count": null,
   "metadata": {},
   "outputs": [],
   "source": []
  }
 ],
 "metadata": {
  "kernelspec": {
   "display_name": "Python 3",
   "language": "python",
   "name": "python3"
  },
  "language_info": {
   "codemirror_mode": {
    "name": "ipython",
    "version": 3
   },
   "file_extension": ".py",
   "mimetype": "text/x-python",
   "name": "python",
   "nbconvert_exporter": "python",
   "pygments_lexer": "ipython3",
   "version": "3.8.3"
  }
 },
 "nbformat": 4,
 "nbformat_minor": 4
}
