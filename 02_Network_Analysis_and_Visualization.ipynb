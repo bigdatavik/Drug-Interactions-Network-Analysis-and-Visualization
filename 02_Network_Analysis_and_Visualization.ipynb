{
 "cells": [
  {
   "cell_type": "markdown",
   "metadata": {},
   "source": [
    "# Drug Interactions Network Analysis\n",
    "### Part 2 - Network Analysis and Visualization with NetworkX and PyVis"
   ]
  },
  {
   "cell_type": "markdown",
   "metadata": {},
   "source": [
    "#### References\n",
    "- https://pyvis.readthedocs.io/en/latest/documentation.html\n",
    "- https://networkx.org/documentation/stable/\n",
    "- https://programminghistorian.org/en/lessons/exploring-and-analyzing-network-data-with-python\n",
    "- https://docs.datapane.com/"
   ]
  },
  {
   "cell_type": "markdown",
   "metadata": {},
   "source": [
    "___\n",
    "## 1. Import dependencies"
   ]
  },
  {
   "cell_type": "code",
   "execution_count": 1,
   "metadata": {},
   "outputs": [
    {
     "data": {
      "text/html": [
       "<style>.container { width:100% !important; }</style>"
      ],
      "text/plain": [
       "<IPython.core.display.HTML object>"
      ]
     },
     "metadata": {},
     "output_type": "display_data"
    }
   ],
   "source": [
    "import pandas as pd\n",
    "import numpy as np\n",
    "import re\n",
    "import zipfile\n",
    "import json\n",
    "from pyvis.network import Network\n",
    "from operator import itemgetter\n",
    "import networkx as nx\n",
    "from networkx.algorithms import community #This part of networkx, for community detection, needs to be imported separately\n",
    "import datapane as dp\n",
    "\n",
    "from IPython.core.display import display, HTML\n",
    "display(HTML(\"<style>.container { width:100% !important; }</style>\"))"
   ]
  },
  {
   "cell_type": "markdown",
   "metadata": {},
   "source": [
    "___\n",
    "## 2. Data preparation"
   ]
  },
  {
   "cell_type": "code",
   "execution_count": 2,
   "metadata": {},
   "outputs": [
    {
     "data": {
      "application/javascript": [
       "\n",
       "        if (window._pyforest_update_imports_cell) { window._pyforest_update_imports_cell('import os'); }\n",
       "    "
      ],
      "text/plain": [
       "<IPython.core.display.Javascript object>"
      ]
     },
     "metadata": {},
     "output_type": "display_data"
    }
   ],
   "source": [
    "# Unzip all tar/zip files\n",
    "zip_files_list = [i for i in os.listdir('data') if i.endswith('.zip')]\n",
    "\n",
    "for file in zip_files_list:\n",
    "    with zipfile.ZipFile(f'data/{file}', 'r') as zip_ref:\n",
    "        zip_ref.extractall('data')"
   ]
  },
  {
   "cell_type": "markdown",
   "metadata": {},
   "source": [
    "#### 2(a) - Drug Interactions (Drugbank)"
   ]
  },
  {
   "cell_type": "code",
   "execution_count": 3,
   "metadata": {},
   "outputs": [
    {
     "data": {
      "text/html": [
       "<div>\n",
       "<style scoped>\n",
       "    .dataframe tbody tr th:only-of-type {\n",
       "        vertical-align: middle;\n",
       "    }\n",
       "\n",
       "    .dataframe tbody tr th {\n",
       "        vertical-align: top;\n",
       "    }\n",
       "\n",
       "    .dataframe thead th {\n",
       "        text-align: right;\n",
       "    }\n",
       "</style>\n",
       "<table border=\"1\" class=\"dataframe\">\n",
       "  <thead>\n",
       "    <tr style=\"text-align: right;\">\n",
       "      <th></th>\n",
       "      <th>drug_1_code</th>\n",
       "      <th>drug_1_name</th>\n",
       "      <th>drug_2_code</th>\n",
       "      <th>drug_2_name</th>\n",
       "    </tr>\n",
       "  </thead>\n",
       "  <tbody>\n",
       "    <tr>\n",
       "      <th>0</th>\n",
       "      <td>DB00862</td>\n",
       "      <td>Vardenafil</td>\n",
       "      <td>DB00966</td>\n",
       "      <td>Telmisartan</td>\n",
       "    </tr>\n",
       "    <tr>\n",
       "      <th>1</th>\n",
       "      <td>DB00575</td>\n",
       "      <td>Clonidine</td>\n",
       "      <td>DB00806</td>\n",
       "      <td>Pentoxifylline</td>\n",
       "    </tr>\n",
       "    <tr>\n",
       "      <th>2</th>\n",
       "      <td>DB01242</td>\n",
       "      <td>Clomipramine</td>\n",
       "      <td>DB08893</td>\n",
       "      <td>Mirabegron</td>\n",
       "    </tr>\n",
       "    <tr>\n",
       "      <th>3</th>\n",
       "      <td>DB01151</td>\n",
       "      <td>Desipramine</td>\n",
       "      <td>DB08883</td>\n",
       "      <td>Perampanel</td>\n",
       "    </tr>\n",
       "    <tr>\n",
       "      <th>4</th>\n",
       "      <td>DB01235</td>\n",
       "      <td>Levodopa</td>\n",
       "      <td>DB01275</td>\n",
       "      <td>Hydralazine</td>\n",
       "    </tr>\n",
       "  </tbody>\n",
       "</table>\n",
       "</div>"
      ],
      "text/plain": [
       "  drug_1_code   drug_1_name drug_2_code     drug_2_name\n",
       "0     DB00862    Vardenafil     DB00966     Telmisartan\n",
       "1     DB00575     Clonidine     DB00806  Pentoxifylline\n",
       "2     DB01242  Clomipramine     DB08893      Mirabegron\n",
       "3     DB01151   Desipramine     DB08883      Perampanel\n",
       "4     DB01235      Levodopa     DB01275     Hydralazine"
      ]
     },
     "execution_count": 3,
     "metadata": {},
     "output_type": "execute_result"
    }
   ],
   "source": [
    "# Read DB mapping JSON\n",
    "with open('data/DB_mapping.json', 'r') as fp:\n",
    "    db_mapping = json.load(fp)\n",
    "\n",
    "# Import raw drugbank dataset\n",
    "df_db_int = pd.read_csv(\"data/ChCh-Miner_durgbank-chem-chem.tsv\", sep='\\t', header=None)\n",
    "df_db_int.columns = ['drug_1_code', 'drug_2_code']\n",
    "\n",
    "# Perform code-name mapping\n",
    "df_db_int['drug_1_name'] = df_db_int['drug_1_code'].map(db_mapping)\n",
    "df_db_int['drug_2_name'] = df_db_int['drug_2_code'].map(db_mapping)\n",
    "\n",
    "# Clean data \n",
    "df_db_int = df_db_int[~df_db_int['drug_1_name'].isin(['This record has been revoked'])]\n",
    "df_db_int = df_db_int[~df_db_int['drug_2_name'].isin(['This record has been revoked'])]\n",
    "\n",
    "# Rename columns\n",
    "new_cols = ['drug_1_code', 'drug_1_name', 'drug_2_code', 'drug_2_name']\n",
    "df_db_int = df_db_int[new_cols]\n",
    "df_db_int.head()"
   ]
  },
  {
   "cell_type": "markdown",
   "metadata": {},
   "source": [
    "#### 2(b) - Polypharmacy side effects\n",
    "- Not using this dataset for drug interactions analysis"
   ]
  },
  {
   "cell_type": "code",
   "execution_count": 4,
   "metadata": {},
   "outputs": [],
   "source": [
    "# # Read CID mapping JSON\n",
    "# with open('data/CID_mapping.json', 'r') as fp:\n",
    "#     cid_mapping = json.load(fp)\n",
    "    \n",
    "# # Import dataset\n",
    "# df_poly_se = pd.read_csv(\"data/ChChSe-Decagon_polypharmacy.csv\")\n",
    "# df_poly_se.columns = ['drug_1_code', 'drug_2_code', 'side_effect_code', 'side_effect_description']\n",
    "\n",
    "# # Perform code-name mapping\n",
    "# df_poly_se['drug_1_name'] = df_poly_se['drug_1_code'].map(cid_mapping)\n",
    "# df_poly_se['drug_2_name'] = df_poly_se['drug_2_code'].map(cid_mapping)\n",
    "\n",
    "# # Rearrange columns\n",
    "# new_cols = ['drug_1_code', 'drug_1_name', 'drug_2_code', 'drug_2_name', \n",
    "#             'side_effect_code', 'side_effect_description']\n",
    "\n",
    "# df_poly_se = df_poly_se[new_cols]\n",
    "# df_poly_se.head()"
   ]
  },
  {
   "cell_type": "markdown",
   "metadata": {},
   "source": [
    "#### 2(c) - Monopharmacy side effects\n",
    "- Not using this dataset for drug interactions analysis"
   ]
  },
  {
   "cell_type": "code",
   "execution_count": 5,
   "metadata": {},
   "outputs": [],
   "source": [
    "# df_mono_se = pd.read_csv(\"data/ChSe-Decagon_monopharmacy.csv\")\n",
    "\n",
    "# # Import dataset\n",
    "# df_mono_se = pd.read_csv(\"data/ChSe-Decagon_monopharmacy.csv\")\n",
    "# df_mono_se.columns = ['drug_code', 'side_effect_code', 'side_effect_description']\n",
    "\n",
    "# # Perform code-name mapping\n",
    "# df_mono_se['drug_name'] = df_mono_se['drug_code'].map(cid_mapping)\n",
    "\n",
    "# # Rearrange columns\n",
    "# new_cols = ['drug_code', 'drug_name', 'side_effect_code', 'side_effect_description']\n",
    "\n",
    "# df_mono_se = df_mono_se[new_cols]\n",
    "# df_mono_se.head()"
   ]
  },
  {
   "cell_type": "markdown",
   "metadata": {},
   "source": [
    "___\n",
    "## 3. Network Analysis (with NetworkX)"
   ]
  },
  {
   "cell_type": "markdown",
   "metadata": {},
   "source": [
    "#### DrugBank Drug Interactions"
   ]
  },
  {
   "cell_type": "code",
   "execution_count": 6,
   "metadata": {},
   "outputs": [
    {
     "data": {
      "text/html": [
       "<div>\n",
       "<style scoped>\n",
       "    .dataframe tbody tr th:only-of-type {\n",
       "        vertical-align: middle;\n",
       "    }\n",
       "\n",
       "    .dataframe tbody tr th {\n",
       "        vertical-align: top;\n",
       "    }\n",
       "\n",
       "    .dataframe thead th {\n",
       "        text-align: right;\n",
       "    }\n",
       "</style>\n",
       "<table border=\"1\" class=\"dataframe\">\n",
       "  <thead>\n",
       "    <tr style=\"text-align: right;\">\n",
       "      <th></th>\n",
       "      <th>drug_1_name</th>\n",
       "      <th>drug_2_name</th>\n",
       "      <th>weight</th>\n",
       "    </tr>\n",
       "  </thead>\n",
       "  <tbody>\n",
       "    <tr>\n",
       "      <th>0</th>\n",
       "      <td>Vardenafil</td>\n",
       "      <td>Telmisartan</td>\n",
       "      <td>1</td>\n",
       "    </tr>\n",
       "    <tr>\n",
       "      <th>1</th>\n",
       "      <td>Clonidine</td>\n",
       "      <td>Pentoxifylline</td>\n",
       "      <td>1</td>\n",
       "    </tr>\n",
       "    <tr>\n",
       "      <th>2</th>\n",
       "      <td>Clomipramine</td>\n",
       "      <td>Mirabegron</td>\n",
       "      <td>1</td>\n",
       "    </tr>\n",
       "    <tr>\n",
       "      <th>3</th>\n",
       "      <td>Desipramine</td>\n",
       "      <td>Perampanel</td>\n",
       "      <td>1</td>\n",
       "    </tr>\n",
       "    <tr>\n",
       "      <th>4</th>\n",
       "      <td>Levodopa</td>\n",
       "      <td>Hydralazine</td>\n",
       "      <td>1</td>\n",
       "    </tr>\n",
       "  </tbody>\n",
       "</table>\n",
       "</div>"
      ],
      "text/plain": [
       "    drug_1_name     drug_2_name  weight\n",
       "0    Vardenafil     Telmisartan       1\n",
       "1     Clonidine  Pentoxifylline       1\n",
       "2  Clomipramine      Mirabegron       1\n",
       "3   Desipramine      Perampanel       1\n",
       "4      Levodopa     Hydralazine       1"
      ]
     },
     "execution_count": 6,
     "metadata": {},
     "output_type": "execute_result"
    }
   ],
   "source": [
    "# Set weights as default value of 1\n",
    "df_db_int['weight'] = 1\n",
    "\n",
    "# Keep only drug name columns\n",
    "df_db_int = df_db_int[['drug_1_name', 'drug_2_name', 'weight']]\n",
    "df_db_int.head()"
   ]
  },
  {
   "cell_type": "code",
   "execution_count": 7,
   "metadata": {},
   "outputs": [
    {
     "name": "stdout",
     "output_type": "stream",
     "text": [
      "Name: \n",
      "Type: Graph\n",
      "Number of nodes: 1505\n",
      "Number of edges: 48224\n",
      "Average degree:  64.0850\n"
     ]
    }
   ],
   "source": [
    "# Generate a networkx graph\n",
    "G = nx.from_pandas_edgelist(df_db_int, 'drug_1_name', 'drug_2_name', 'weight')\n",
    "\n",
    "# General information of graph\n",
    "print(nx.info(G))"
   ]
  },
  {
   "cell_type": "code",
   "execution_count": 8,
   "metadata": {},
   "outputs": [
    {
     "name": "stdout",
     "output_type": "stream",
     "text": [
      "Network density: 0.042609740581041916\n"
     ]
    }
   ],
   "source": [
    "density = nx.density(G)\n",
    "print(\"Network density:\", density)"
   ]
  },
  {
   "cell_type": "code",
   "execution_count": 9,
   "metadata": {},
   "outputs": [
    {
     "data": {
      "text/plain": [
       "('Phenytoin', 442)"
      ]
     },
     "execution_count": 9,
     "metadata": {},
     "output_type": "execute_result"
    }
   ],
   "source": [
    "# Get most connected node (i.e. drug with most drug interactions)\n",
    "G.degree()\n",
    "max(dict(G.degree()).items(), key = lambda x : x[1])"
   ]
  },
  {
   "cell_type": "code",
   "execution_count": 10,
   "metadata": {
    "scrolled": true
   },
   "outputs": [
    {
     "name": "stdout",
     "output_type": "stream",
     "text": [
      "Top 20 drugs by degree:\n",
      "('Phenytoin', 442)\n",
      "('Mifepristone', 377)\n",
      "('Paroxetine', 368)\n",
      "('Tranylcypromine', 358)\n",
      "('Phenelzine', 342)\n",
      "('Warfarin', 334)\n",
      "('Deferasirox', 329)\n",
      "('Nelfinavir', 321)\n",
      "('Dronabinol', 312)\n",
      "('Hydrocodone', 311)\n",
      "('Clozapine', 311)\n",
      "('Primidone', 307)\n",
      "('Ritonavir', 306)\n",
      "('Aripiprazole', 304)\n",
      "('Fosphenytoin', 300)\n",
      "('Saquinavir', 293)\n",
      "('Acenocoumarol', 292)\n",
      "('Carbamazepine', 290)\n",
      "('Citalopram', 288)\n",
      "('Dabrafenib', 285)\n"
     ]
    }
   ],
   "source": [
    "degree_dict = dict(G.degree(G.nodes()))\n",
    "nx.set_node_attributes(G, degree_dict, 'degree')\n",
    "\n",
    "sorted_degree = sorted(degree_dict.items(), key=itemgetter(1), reverse=True)\n",
    "\n",
    "print(\"Top 20 drugs by degree:\")\n",
    "for d in sorted_degree[:20]:\n",
    "    print(d)"
   ]
  },
  {
   "cell_type": "code",
   "execution_count": 11,
   "metadata": {},
   "outputs": [],
   "source": [
    "# Betweenness centrality not relevant for drug-drug interactions dataset, so not running this chunk of code\n",
    "# betweenness_dict = nx.betweenness_centrality(G) # Run betweenness centrality\n",
    "# eigenvector_dict = nx.eigenvector_centrality(G) # Run eigenvector centrality\n",
    "\n",
    "# # Assign each to an attribute in your network\n",
    "# nx.set_node_attributes(G, betweenness_dict, 'betweenness')\n",
    "# nx.set_node_attributes(G, eigenvector_dict, 'eigenvector')\n",
    "\n",
    "# sorted_betweenness = sorted(betweenness_dict.items(), key=itemgetter(1), reverse=True)\n",
    "\n",
    "# print(\"Top 20 nodes by betweenness centrality:\")\n",
    "# for b in sorted_betweenness[:20]:\n",
    "#     print(b)"
   ]
  },
  {
   "cell_type": "markdown",
   "metadata": {},
   "source": [
    "___\n",
    "## 4. Network Visualization (with Pyvis)"
   ]
  },
  {
   "cell_type": "code",
   "execution_count": 12,
   "metadata": {},
   "outputs": [],
   "source": [
    "# Define function to generate Pyvis visualization\n",
    "def generate_network_viz(df, source_col, target_col, weights, \n",
    "                         layout='barnes_hut',\n",
    "                         central_gravity=0.15,\n",
    "                         node_distance=420,\n",
    "                         spring_length=100,\n",
    "                         spring_strength=0.15,\n",
    "                         damping=0.96\n",
    "                         ):\n",
    "    \n",
    "    # Generate a networkx graph\n",
    "    G = nx.from_pandas_edgelist(df, source_col, target_col, weights)\n",
    "    \n",
    "    if layout == 'repulsion':\n",
    "        bgcolor, font_color = '#222222', 'white'\n",
    "    else:\n",
    "        bgcolor, font_color = 'white', 'black'\n",
    "    \n",
    "    # Initiate PyVis network object\n",
    "    drug_net = Network(\n",
    "                       height='700px', \n",
    "                       width='100%',\n",
    "                       bgcolor=bgcolor, \n",
    "                       font_color=font_color, \n",
    "                       notebook=True\n",
    "                      )\n",
    "    \n",
    "    # Take Networkx graph and translate it to a PyVis graph format\n",
    "    drug_net.from_nx(G)\n",
    "    \n",
    "    # Create different network layout (repulsion or Barnes Hut)\n",
    "    if layout == 'repulsion':\n",
    "        drug_net.repulsion(\n",
    "                            node_distance=node_distance, \n",
    "                            central_gravity=central_gravity, \n",
    "                            spring_length=spring_length, \n",
    "                            spring_strength=spring_strength, \n",
    "                            damping=damping\n",
    "                           )\n",
    "        \n",
    "    # Run default Barnes Hut visualization\n",
    "    else:\n",
    "        drug_net.barnes_hut(\n",
    "#                            gravity=-80000, \n",
    "#                            central_gravity=central_gravity, \n",
    "#                            spring_length=spring_length, \n",
    "#                            spring_strength=spring_strength, \n",
    "#                            damping=damping, \n",
    "#                            overlap=0\n",
    "                          )      \n",
    "        \n",
    "    # Set additional options ()\n",
    "    # db_net_sm.set_options(\"\"\"\n",
    "#             var options = {\n",
    "#               \"edges\": {\n",
    "#                 \"color\": {\n",
    "#                   \"inherit\": true\n",
    "#                 },\n",
    "#                 \"font\": {\n",
    "#                   \"size\": 25,\n",
    "#                   \"strokeWidth\": 3\n",
    "#                 },\n",
    "#                 \"scaling\": {\n",
    "#                   \"max\": 14\n",
    "#                 },\n",
    "#                 \"smooth\": false\n",
    "#               },\n",
    "#               \"interaction\": {\n",
    "#                 \"tooltipDelay\": 100\n",
    "#               }\n",
    "#             }\n",
    "#             \"\"\")\n",
    "        \n",
    "#     # Create neighbour map (Optional for now)\n",
    "#     sources = df[source_col]\n",
    "#     targets = df[target_col]\n",
    "#     weights = df[weights]\n",
    "\n",
    "#     edge_data = zip(sources, targets, weights)\n",
    "#     for e in edge_data:\n",
    "#         src = e[0]\n",
    "#         dst = e[1]\n",
    "#         w = e[2]\n",
    "\n",
    "#         df.add_node(src, src, title=src)\n",
    "#         df.add_node(dst, dst, title=dst)\n",
    "#         df.add_edge(src, dst, value=w)\n",
    "\n",
    "#     # Add neighbor data to node hover data\n",
    "#     # neighbor_map = df.get_adj_list()\n",
    "\n",
    "#     # for node in db_net.nodes:\n",
    "#     #     node['title'] += ' Neighbors:<br>' + '<br>'.join(neighbor_map[node['id']])\n",
    "#     #     node['value'] = len(neighbor_map[node['id']])\n",
    "\n",
    "    return drug_net"
   ]
  },
  {
   "cell_type": "code",
   "execution_count": 13,
   "metadata": {},
   "outputs": [],
   "source": [
    "# Load entire network for all drug interactions (Will take very long to load, run this code with caution)\n",
    "# db_net_all = generate_network_viz(df_db_int, 'drug_1_name', 'drug_2_name', 'weight')\n",
    "# db_net_all.show('drug_interactions_db.html')"
   ]
  },
  {
   "cell_type": "markdown",
   "metadata": {},
   "source": [
    "___\n",
    "#### Subset data\n",
    "- Earlier network is too vast and complex for viewing\n",
    "- Narrow down dataset to subset of drugs for network visualization"
   ]
  },
  {
   "cell_type": "code",
   "execution_count": 14,
   "metadata": {},
   "outputs": [],
   "source": [
    "# Define list of oral medications for the common diseases\n",
    "dm_meds = ['Metformin', 'Linagliptin', 'Sitagliptin', 'Glibenclamide', 'Gliclazide',\n",
    "          'Glimepiride', 'Glipizide', 'Tolbutamide', 'Canagliflozin', 'Dapagliflozin',\n",
    "          'Empagliflozin', 'Dapagliflozin', 'Acarbose', 'Liraglutide']\n",
    "\n",
    "cardio_meds = ['Captopril', 'Enalapril', 'Lisinopril', 'Perindopril', 'Irbesartan',\n",
    "               'Losartan', 'Telmisartan', 'Valsartan', 'Candesartan', 'Atenolol', \n",
    "               'Bisoprolol', 'Carvedilol', 'Propranolol', 'Amlodipine', 'Diltiazem', \n",
    "               'Nifedipine', 'Verapamil', 'Bumetanide', 'Frusemide', 'Isosorbide',\n",
    "               'Hydrochlorothiazide', 'Spironolactone', 'Isosorbide Dinitrate', \n",
    "               'Isosorbide Mononitrate', 'Aspirin', 'Clopidogrel', 'Ticagrelor', \n",
    "               'Atorvastatin', 'Rosuvastatin', 'Simvastatin', 'Pravastatin']  \n",
    "\n",
    "# List of meds with the most interactions\n",
    "subset_meds_1 = ['Phenytoin', 'Mifepristone', 'Paroxetine']\n",
    "\n",
    "# Sample drugs for diabetes (Metformin), hyperlipidemia (Simvastatin), and hypertension (Lisinopril)\n",
    "subset_meds_2 = ['Metformin', 'Simvastatin', 'Lisinopril']"
   ]
  },
  {
   "cell_type": "code",
   "execution_count": 15,
   "metadata": {},
   "outputs": [
    {
     "data": {
      "text/html": [
       "<div>\n",
       "<style scoped>\n",
       "    .dataframe tbody tr th:only-of-type {\n",
       "        vertical-align: middle;\n",
       "    }\n",
       "\n",
       "    .dataframe tbody tr th {\n",
       "        vertical-align: top;\n",
       "    }\n",
       "\n",
       "    .dataframe thead th {\n",
       "        text-align: right;\n",
       "    }\n",
       "</style>\n",
       "<table border=\"1\" class=\"dataframe\">\n",
       "  <thead>\n",
       "    <tr style=\"text-align: right;\">\n",
       "      <th></th>\n",
       "      <th>drug_1_name</th>\n",
       "      <th>drug_2_name</th>\n",
       "      <th>weight</th>\n",
       "    </tr>\n",
       "  </thead>\n",
       "  <tbody>\n",
       "    <tr>\n",
       "      <th>0</th>\n",
       "      <td>Simvastatin</td>\n",
       "      <td>Siltuximab</td>\n",
       "      <td>1</td>\n",
       "    </tr>\n",
       "    <tr>\n",
       "      <th>1</th>\n",
       "      <td>Metformin</td>\n",
       "      <td>Phenelzine</td>\n",
       "      <td>1</td>\n",
       "    </tr>\n",
       "    <tr>\n",
       "      <th>2</th>\n",
       "      <td>Simvastatin</td>\n",
       "      <td>Eltrombopag</td>\n",
       "      <td>1</td>\n",
       "    </tr>\n",
       "    <tr>\n",
       "      <th>3</th>\n",
       "      <td>Metformin</td>\n",
       "      <td>Primidone</td>\n",
       "      <td>1</td>\n",
       "    </tr>\n",
       "    <tr>\n",
       "      <th>4</th>\n",
       "      <td>Simvastatin</td>\n",
       "      <td>Fenofibrate</td>\n",
       "      <td>1</td>\n",
       "    </tr>\n",
       "  </tbody>\n",
       "</table>\n",
       "</div>"
      ],
      "text/plain": [
       "   drug_1_name  drug_2_name  weight\n",
       "0  Simvastatin   Siltuximab       1\n",
       "1    Metformin   Phenelzine       1\n",
       "2  Simvastatin  Eltrombopag       1\n",
       "3    Metformin    Primidone       1\n",
       "4  Simvastatin  Fenofibrate       1"
      ]
     },
     "execution_count": 15,
     "metadata": {},
     "output_type": "execute_result"
    }
   ],
   "source": [
    "# Focus on subset meds\n",
    "df_db_int_sm = df_db_int.loc[df_db_int['drug_1_name'].isin(subset_meds_2) | df_db_int['drug_2_name'].isin(subset_meds_2)]\n",
    "df_db_int_sm = df_db_int_sm.reset_index(drop=True)\n",
    "df_db_int_sm.head()"
   ]
  },
  {
   "cell_type": "markdown",
   "metadata": {},
   "source": [
    "#### Network visualization with Repulsion\n",
    "- Solver attribute of physics to repulsion."
   ]
  },
  {
   "cell_type": "code",
   "execution_count": 19,
   "metadata": {
    "scrolled": false
   },
   "outputs": [
    {
     "data": {
      "text/html": [
       "\n",
       "        <iframe\n",
       "            width=\"100%\"\n",
       "            height=\"700px\"\n",
       "            src=\"drug_interactions_network_subset_repulsion.html\"\n",
       "            frameborder=\"0\"\n",
       "            allowfullscreen\n",
       "        ></iframe>\n",
       "        "
      ],
      "text/plain": [
       "<IPython.lib.display.IFrame at 0x254a423bc70>"
      ]
     },
     "execution_count": 19,
     "metadata": {},
     "output_type": "execute_result"
    }
   ],
   "source": [
    "# Generate a networkx graph based on subset data\n",
    "db_subset_net = generate_network_viz(df_db_int_sm, 'drug_1_name', 'drug_2_name', 'weight', layout='repulsion')\n",
    "db_subset_net.show('drug_interactions_network_subset_repulsion.html')"
   ]
  },
  {
   "cell_type": "markdown",
   "metadata": {},
   "source": [
    "#### Barnes Hut Visualization\n",
    "- BarnesHut is a quadtree based gravity model\n",
    "- It is the fastest, default and recommended solver for non-hierarchical layouts"
   ]
  },
  {
   "cell_type": "code",
   "execution_count": 18,
   "metadata": {
    "scrolled": false
   },
   "outputs": [
    {
     "data": {
      "text/html": [
       "\n",
       "        <iframe\n",
       "            width=\"100%\"\n",
       "            height=\"700px\"\n",
       "            src=\"drug_interactions_network_subset_barnes.html\"\n",
       "            frameborder=\"0\"\n",
       "            allowfullscreen\n",
       "        ></iframe>\n",
       "        "
      ],
      "text/plain": [
       "<IPython.lib.display.IFrame at 0x254a431c3a0>"
      ]
     },
     "execution_count": 18,
     "metadata": {},
     "output_type": "execute_result"
    }
   ],
   "source": [
    "# Generate a networkx graph based on subset data\n",
    "db_subset_net_barnes = generate_network_viz(df_db_int_sm, 'drug_1_name', 'drug_2_name', 'weight', layout='barnes')\n",
    "db_subset_net_barnes.show('drug_interactions_network_subset_barnes.html')"
   ]
  },
  {
   "cell_type": "code",
   "execution_count": 20,
   "metadata": {},
   "outputs": [
    {
     "data": {
      "text/html": [
       "\n",
       "        <iframe\n",
       "            width=\"100%\"\n",
       "            height=\"700px\"\n",
       "            src=\"drug_interactions_network_phenytoin.html\"\n",
       "            frameborder=\"0\"\n",
       "            allowfullscreen\n",
       "        ></iframe>\n",
       "        "
      ],
      "text/plain": [
       "<IPython.lib.display.IFrame at 0x254a4318550>"
      ]
     },
     "execution_count": 20,
     "metadata": {},
     "output_type": "execute_result"
    }
   ],
   "source": [
    "# Create network for single drug. Use Phenytoin since it has most edges (i.e. involved in most drug interactions)\n",
    "df_db_phenytoin = df_db_int.loc[df_db_int['drug_1_name'].isin(['Phenytoin']) | df_db_int['drug_2_name'].isin(['Phenytoin'])]\n",
    "\n",
    "# Generate a networkx graph based on subset data\n",
    "db_net_phenytoin = generate_network_viz(df_db_phenytoin, 'drug_1_name', 'drug_2_name', 'weight', layout='repulsion', spring_strength=0.05)\n",
    "db_net_phenytoin.show('drug_interactions_network_phenytoin.html')"
   ]
  },
  {
   "cell_type": "markdown",
   "metadata": {},
   "source": [
    "#### Refer to the `upload_viz_to_datapane.py` file for the codes to upload these network graphs (as HTML files) into DataPane for better visualization"
   ]
  },
  {
   "cell_type": "code",
   "execution_count": 21,
   "metadata": {},
   "outputs": [
    {
     "name": "stdout",
     "output_type": "stream",
     "text": [
      "# Upload HTMLs to Datapane\n",
      "# Reference: https://docs.datapane.com/reports/blocks/text-code-and-html\n",
      "import datapane as dp\n",
      "\n",
      "# =====================================\n",
      "#  Network 1 - Subset Data (Repulsion)\n",
      "# =====================================\n",
      "with open('drug_interactions_network_subset_repulsion.html', 'r') as f:\n",
      "    html_network_1 = f.read()\n",
      "\n",
      "dp.Report(\n",
      "  dp.HTML(\n",
      "    html_network_1\n",
      "  )\n",
      ").upload(name='drug_interactions_network_1.html')\n",
      "\n",
      "# =====================================\n",
      "#  Network 2 - Subset Data (Barnes_Hut)\n",
      "# =====================================\n",
      "with open('drug_interactions_network_subset_barnes.html', 'r') as f:\n",
      "    html_network_2 = f.read()\n",
      "\n",
      "dp.Report(\n",
      "  dp.HTML(\n",
      "    html_network_2\n",
      "  )\n",
      ").upload(name='drug_interactions_network_2.html')\n",
      "\n",
      "# =====================================\n",
      "#         Network 3 - Phenytoin\n",
      "# =====================================\n",
      "with open('drug_interactions_network_phenytoin.html', 'r') as f:\n",
      "    html_network_3 = f.read()\n",
      "\n",
      "dp.Report(\n",
      "  dp.HTML(\n",
      "    html_network_3\n",
      "  )\n",
      ").upload(name='drug_interactions_network_3.html')\n"
     ]
    }
   ],
   "source": [
    "!pygmentize upload_viz_to_datapane.py"
   ]
  },
  {
   "cell_type": "code",
   "execution_count": null,
   "metadata": {},
   "outputs": [],
   "source": []
  }
 ],
 "metadata": {
  "kernelspec": {
   "display_name": "Python 3",
   "language": "python",
   "name": "python3"
  },
  "language_info": {
   "codemirror_mode": {
    "name": "ipython",
    "version": 3
   },
   "file_extension": ".py",
   "mimetype": "text/x-python",
   "name": "python",
   "nbconvert_exporter": "python",
   "pygments_lexer": "ipython3",
   "version": "3.8.3"
  }
 },
 "nbformat": 4,
 "nbformat_minor": 4
}
