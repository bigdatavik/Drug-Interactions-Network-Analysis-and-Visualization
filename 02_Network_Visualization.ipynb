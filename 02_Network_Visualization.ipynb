{
 "cells": [
  {
   "cell_type": "markdown",
   "metadata": {},
   "source": [
    "# Drug Interactions Network Analysis\n",
    "**Part 2 - Network Visualization**"
   ]
  },
  {
   "cell_type": "markdown",
   "metadata": {},
   "source": [
    "___\n",
    "### 1. Import dependencies"
   ]
  },
  {
   "cell_type": "code",
   "execution_count": 25,
   "metadata": {},
   "outputs": [
    {
     "data": {
      "text/html": [
       "<style>.container { width:100% !important; }</style>"
      ],
      "text/plain": [
       "<IPython.core.display.HTML object>"
      ]
     },
     "metadata": {},
     "output_type": "display_data"
    }
   ],
   "source": [
    "import pandas as pd\n",
    "import numpy as np\n",
    "import re\n",
    "import zipfile\n",
    "import json\n",
    "from pyvis.network import Network\n",
    "import networkx as nx\n",
    "\n",
    "from IPython.core.display import display, HTML\n",
    "display(HTML(\"<style>.container { width:100% !important; }</style>\"))"
   ]
  },
  {
   "cell_type": "markdown",
   "metadata": {},
   "source": [
    "___\n",
    "### 2. Data preparation"
   ]
  },
  {
   "cell_type": "code",
   "execution_count": 26,
   "metadata": {},
   "outputs": [
    {
     "data": {
      "application/javascript": [
       "\n",
       "        if (window._pyforest_update_imports_cell) { window._pyforest_update_imports_cell('import os'); }\n",
       "    "
      ],
      "text/plain": [
       "<IPython.core.display.Javascript object>"
      ]
     },
     "metadata": {},
     "output_type": "display_data"
    }
   ],
   "source": [
    "# Unzip all tar/zip files\n",
    "zip_files_list = [i for i in os.listdir('data') if i.endswith('.zip')]\n",
    "\n",
    "for file in zip_files_list:\n",
    "    with zipfile.ZipFile(f'data/{file}', 'r') as zip_ref:\n",
    "        zip_ref.extractall('data')"
   ]
  },
  {
   "cell_type": "markdown",
   "metadata": {},
   "source": [
    "#### Drug Interactions (Drugbank)"
   ]
  },
  {
   "cell_type": "code",
   "execution_count": 27,
   "metadata": {},
   "outputs": [],
   "source": [
    "# Read DB mapping JSON\n",
    "with open('data/DB_mapping.json', 'r') as fp:\n",
    "    db_mapping = json.load(fp)"
   ]
  },
  {
   "cell_type": "code",
   "execution_count": 28,
   "metadata": {},
   "outputs": [
    {
     "data": {
      "text/html": [
       "<div>\n",
       "<style scoped>\n",
       "    .dataframe tbody tr th:only-of-type {\n",
       "        vertical-align: middle;\n",
       "    }\n",
       "\n",
       "    .dataframe tbody tr th {\n",
       "        vertical-align: top;\n",
       "    }\n",
       "\n",
       "    .dataframe thead th {\n",
       "        text-align: right;\n",
       "    }\n",
       "</style>\n",
       "<table border=\"1\" class=\"dataframe\">\n",
       "  <thead>\n",
       "    <tr style=\"text-align: right;\">\n",
       "      <th></th>\n",
       "      <th>drug_1_code</th>\n",
       "      <th>drug_1_name</th>\n",
       "      <th>drug_2_code</th>\n",
       "      <th>drug_2_name</th>\n",
       "    </tr>\n",
       "  </thead>\n",
       "  <tbody>\n",
       "    <tr>\n",
       "      <th>0</th>\n",
       "      <td>DB00862</td>\n",
       "      <td>Vardenafil</td>\n",
       "      <td>DB00966</td>\n",
       "      <td>Telmisartan</td>\n",
       "    </tr>\n",
       "    <tr>\n",
       "      <th>1</th>\n",
       "      <td>DB00575</td>\n",
       "      <td>Clonidine</td>\n",
       "      <td>DB00806</td>\n",
       "      <td>Pentoxifylline</td>\n",
       "    </tr>\n",
       "    <tr>\n",
       "      <th>2</th>\n",
       "      <td>DB01242</td>\n",
       "      <td>Clomipramine</td>\n",
       "      <td>DB08893</td>\n",
       "      <td>Mirabegron</td>\n",
       "    </tr>\n",
       "    <tr>\n",
       "      <th>3</th>\n",
       "      <td>DB01151</td>\n",
       "      <td>Desipramine</td>\n",
       "      <td>DB08883</td>\n",
       "      <td>Perampanel</td>\n",
       "    </tr>\n",
       "    <tr>\n",
       "      <th>4</th>\n",
       "      <td>DB01235</td>\n",
       "      <td>Levodopa</td>\n",
       "      <td>DB01275</td>\n",
       "      <td>Hydralazine</td>\n",
       "    </tr>\n",
       "  </tbody>\n",
       "</table>\n",
       "</div>"
      ],
      "text/plain": [
       "  drug_1_code   drug_1_name drug_2_code     drug_2_name\n",
       "0     DB00862    Vardenafil     DB00966     Telmisartan\n",
       "1     DB00575     Clonidine     DB00806  Pentoxifylline\n",
       "2     DB01242  Clomipramine     DB08893      Mirabegron\n",
       "3     DB01151   Desipramine     DB08883      Perampanel\n",
       "4     DB01235      Levodopa     DB01275     Hydralazine"
      ]
     },
     "execution_count": 28,
     "metadata": {},
     "output_type": "execute_result"
    }
   ],
   "source": [
    "# Import raw drugbank dataset\n",
    "df_db_int = pd.read_csv(\"data/ChCh-Miner_durgbank-chem-chem.tsv\", sep='\\t', header=None)\n",
    "df_db_int.columns = ['drug_1_code', 'drug_2_code']\n",
    "\n",
    "# Perform code-name mapping\n",
    "df_db_int['drug_1_name'] = df_db_int['drug_1_code'].map(db_mapping)\n",
    "df_db_int['drug_2_name'] = df_db_int['drug_2_code'].map(db_mapping)\n",
    "\n",
    "new_cols = ['drug_1_code', 'drug_1_name', 'drug_2_code', 'drug_2_name']\n",
    "\n",
    "# Clean data \n",
    "df_db_int = df_db_int[~df_db_int['drug_1_name'].isin(['This record has been revoked'])]\n",
    "df_db_int = df_db_int[~df_db_int['drug_2_name'].isin(['This record has been revoked'])]\n",
    "\n",
    "df_db_int = df_db_int[new_cols]\n",
    "df_db_int.head()"
   ]
  },
  {
   "cell_type": "markdown",
   "metadata": {},
   "source": [
    "#### 2(b) Polypharmacy side effects"
   ]
  },
  {
   "cell_type": "code",
   "execution_count": 29,
   "metadata": {},
   "outputs": [],
   "source": [
    "# Read CID mapping JSON\n",
    "with open('data/CID_mapping.json', 'r') as fp:\n",
    "    cid_mapping = json.load(fp)"
   ]
  },
  {
   "cell_type": "code",
   "execution_count": 30,
   "metadata": {},
   "outputs": [
    {
     "data": {
      "text/html": [
       "<div>\n",
       "<style scoped>\n",
       "    .dataframe tbody tr th:only-of-type {\n",
       "        vertical-align: middle;\n",
       "    }\n",
       "\n",
       "    .dataframe tbody tr th {\n",
       "        vertical-align: top;\n",
       "    }\n",
       "\n",
       "    .dataframe thead th {\n",
       "        text-align: right;\n",
       "    }\n",
       "</style>\n",
       "<table border=\"1\" class=\"dataframe\">\n",
       "  <thead>\n",
       "    <tr style=\"text-align: right;\">\n",
       "      <th></th>\n",
       "      <th>drug_1_code</th>\n",
       "      <th>drug_1_name</th>\n",
       "      <th>drug_2_code</th>\n",
       "      <th>drug_2_name</th>\n",
       "      <th>side_effect_code</th>\n",
       "      <th>side_effect_description</th>\n",
       "    </tr>\n",
       "  </thead>\n",
       "  <tbody>\n",
       "    <tr>\n",
       "      <th>0</th>\n",
       "      <td>CID000002173</td>\n",
       "      <td>6-{[Amino(phenyl)acetyl]amino}-3,3-dimethyl-7-...</td>\n",
       "      <td>CID000003345</td>\n",
       "      <td>Fentanyl</td>\n",
       "      <td>C0151714</td>\n",
       "      <td>hypermagnesemia</td>\n",
       "    </tr>\n",
       "    <tr>\n",
       "      <th>1</th>\n",
       "      <td>CID000002173</td>\n",
       "      <td>6-{[Amino(phenyl)acetyl]amino}-3,3-dimethyl-7-...</td>\n",
       "      <td>CID000003345</td>\n",
       "      <td>Fentanyl</td>\n",
       "      <td>C0035344</td>\n",
       "      <td>retinopathy of prematurity</td>\n",
       "    </tr>\n",
       "    <tr>\n",
       "      <th>2</th>\n",
       "      <td>CID000002173</td>\n",
       "      <td>6-{[Amino(phenyl)acetyl]amino}-3,3-dimethyl-7-...</td>\n",
       "      <td>CID000003345</td>\n",
       "      <td>Fentanyl</td>\n",
       "      <td>C0004144</td>\n",
       "      <td>atelectasis</td>\n",
       "    </tr>\n",
       "    <tr>\n",
       "      <th>3</th>\n",
       "      <td>CID000002173</td>\n",
       "      <td>6-{[Amino(phenyl)acetyl]amino}-3,3-dimethyl-7-...</td>\n",
       "      <td>CID000003345</td>\n",
       "      <td>Fentanyl</td>\n",
       "      <td>C0002063</td>\n",
       "      <td>alkalosis</td>\n",
       "    </tr>\n",
       "    <tr>\n",
       "      <th>4</th>\n",
       "      <td>CID000002173</td>\n",
       "      <td>6-{[Amino(phenyl)acetyl]amino}-3,3-dimethyl-7-...</td>\n",
       "      <td>CID000003345</td>\n",
       "      <td>Fentanyl</td>\n",
       "      <td>C0004604</td>\n",
       "      <td>Back Ache</td>\n",
       "    </tr>\n",
       "  </tbody>\n",
       "</table>\n",
       "</div>"
      ],
      "text/plain": [
       "    drug_1_code                                        drug_1_name  \\\n",
       "0  CID000002173  6-{[Amino(phenyl)acetyl]amino}-3,3-dimethyl-7-...   \n",
       "1  CID000002173  6-{[Amino(phenyl)acetyl]amino}-3,3-dimethyl-7-...   \n",
       "2  CID000002173  6-{[Amino(phenyl)acetyl]amino}-3,3-dimethyl-7-...   \n",
       "3  CID000002173  6-{[Amino(phenyl)acetyl]amino}-3,3-dimethyl-7-...   \n",
       "4  CID000002173  6-{[Amino(phenyl)acetyl]amino}-3,3-dimethyl-7-...   \n",
       "\n",
       "    drug_2_code drug_2_name side_effect_code     side_effect_description  \n",
       "0  CID000003345    Fentanyl         C0151714             hypermagnesemia  \n",
       "1  CID000003345    Fentanyl         C0035344  retinopathy of prematurity  \n",
       "2  CID000003345    Fentanyl         C0004144                 atelectasis  \n",
       "3  CID000003345    Fentanyl         C0002063                   alkalosis  \n",
       "4  CID000003345    Fentanyl         C0004604                   Back Ache  "
      ]
     },
     "execution_count": 30,
     "metadata": {},
     "output_type": "execute_result"
    }
   ],
   "source": [
    "# Import dataset\n",
    "df_poly_se = pd.read_csv(\"data/ChChSe-Decagon_polypharmacy.csv\")\n",
    "df_poly_se.columns = ['drug_1_code', 'drug_2_code', 'side_effect_code', 'side_effect_description']\n",
    "\n",
    "# Perform code-name mapping\n",
    "df_poly_se['drug_1_name'] = df_poly_se['drug_1_code'].map(cid_mapping)\n",
    "df_poly_se['drug_2_name'] = df_poly_se['drug_2_code'].map(cid_mapping)\n",
    "\n",
    "# Rearrange columns\n",
    "new_cols = ['drug_1_code', 'drug_1_name', 'drug_2_code', 'drug_2_name', \n",
    "            'side_effect_code', 'side_effect_description']\n",
    "\n",
    "df_poly_se = df_poly_se[new_cols]\n",
    "df_poly_se.head()"
   ]
  },
  {
   "cell_type": "markdown",
   "metadata": {},
   "source": [
    "#### 2(c) Monopharmacy side effects"
   ]
  },
  {
   "cell_type": "code",
   "execution_count": 31,
   "metadata": {},
   "outputs": [
    {
     "data": {
      "text/html": [
       "<div>\n",
       "<style scoped>\n",
       "    .dataframe tbody tr th:only-of-type {\n",
       "        vertical-align: middle;\n",
       "    }\n",
       "\n",
       "    .dataframe tbody tr th {\n",
       "        vertical-align: top;\n",
       "    }\n",
       "\n",
       "    .dataframe thead th {\n",
       "        text-align: right;\n",
       "    }\n",
       "</style>\n",
       "<table border=\"1\" class=\"dataframe\">\n",
       "  <thead>\n",
       "    <tr style=\"text-align: right;\">\n",
       "      <th></th>\n",
       "      <th>drug_code</th>\n",
       "      <th>drug_name</th>\n",
       "      <th>side_effect_code</th>\n",
       "      <th>side_effect_description</th>\n",
       "    </tr>\n",
       "  </thead>\n",
       "  <tbody>\n",
       "    <tr>\n",
       "      <th>0</th>\n",
       "      <td>CID003062316</td>\n",
       "      <td>Dasatinib</td>\n",
       "      <td>C1096328</td>\n",
       "      <td>central nervous system mass</td>\n",
       "    </tr>\n",
       "    <tr>\n",
       "      <th>1</th>\n",
       "      <td>CID003062316</td>\n",
       "      <td>Dasatinib</td>\n",
       "      <td>C0162830</td>\n",
       "      <td>Photosensitivity reaction</td>\n",
       "    </tr>\n",
       "    <tr>\n",
       "      <th>2</th>\n",
       "      <td>CID003062316</td>\n",
       "      <td>Dasatinib</td>\n",
       "      <td>C1611725</td>\n",
       "      <td>leukaemic infiltration brain</td>\n",
       "    </tr>\n",
       "    <tr>\n",
       "      <th>3</th>\n",
       "      <td>CID003062316</td>\n",
       "      <td>Dasatinib</td>\n",
       "      <td>C0541767</td>\n",
       "      <td>platelet adhesiveness abnormal</td>\n",
       "    </tr>\n",
       "    <tr>\n",
       "      <th>4</th>\n",
       "      <td>CID003062316</td>\n",
       "      <td>Dasatinib</td>\n",
       "      <td>C0242973</td>\n",
       "      <td>Ventricular dysfunction</td>\n",
       "    </tr>\n",
       "  </tbody>\n",
       "</table>\n",
       "</div>"
      ],
      "text/plain": [
       "      drug_code  drug_name side_effect_code         side_effect_description\n",
       "0  CID003062316  Dasatinib         C1096328     central nervous system mass\n",
       "1  CID003062316  Dasatinib         C0162830       Photosensitivity reaction\n",
       "2  CID003062316  Dasatinib         C1611725    leukaemic infiltration brain\n",
       "3  CID003062316  Dasatinib         C0541767  platelet adhesiveness abnormal\n",
       "4  CID003062316  Dasatinib         C0242973         Ventricular dysfunction"
      ]
     },
     "execution_count": 31,
     "metadata": {},
     "output_type": "execute_result"
    }
   ],
   "source": [
    "df_mono_se = pd.read_csv(\"data/ChSe-Decagon_monopharmacy.csv\")\n",
    "\n",
    "# Import dataset\n",
    "df_mono_se = pd.read_csv(\"data/ChSe-Decagon_monopharmacy.csv\")\n",
    "df_mono_se.columns = ['drug_code', 'side_effect_code', 'side_effect_description']\n",
    "\n",
    "# Perform code-name mapping\n",
    "df_mono_se['drug_name'] = df_mono_se['drug_code'].map(cid_mapping)\n",
    "\n",
    "# Rearrange columns\n",
    "new_cols = ['drug_code', 'drug_name', 'side_effect_code', 'side_effect_description']\n",
    "\n",
    "df_mono_se = df_mono_se[new_cols]\n",
    "df_mono_se.head()"
   ]
  },
  {
   "cell_type": "markdown",
   "metadata": {},
   "source": [
    "### 3. Network Visualization"
   ]
  },
  {
   "cell_type": "markdown",
   "metadata": {},
   "source": [
    "#### Drug Bank Drug Interactions"
   ]
  },
  {
   "cell_type": "code",
   "execution_count": 32,
   "metadata": {},
   "outputs": [
    {
     "data": {
      "text/html": [
       "<div>\n",
       "<style scoped>\n",
       "    .dataframe tbody tr th:only-of-type {\n",
       "        vertical-align: middle;\n",
       "    }\n",
       "\n",
       "    .dataframe tbody tr th {\n",
       "        vertical-align: top;\n",
       "    }\n",
       "\n",
       "    .dataframe thead th {\n",
       "        text-align: right;\n",
       "    }\n",
       "</style>\n",
       "<table border=\"1\" class=\"dataframe\">\n",
       "  <thead>\n",
       "    <tr style=\"text-align: right;\">\n",
       "      <th></th>\n",
       "      <th>drug_1_code</th>\n",
       "      <th>drug_1_name</th>\n",
       "      <th>drug_2_code</th>\n",
       "      <th>drug_2_name</th>\n",
       "      <th>weight</th>\n",
       "    </tr>\n",
       "  </thead>\n",
       "  <tbody>\n",
       "    <tr>\n",
       "      <th>0</th>\n",
       "      <td>DB00862</td>\n",
       "      <td>Vardenafil</td>\n",
       "      <td>DB00966</td>\n",
       "      <td>Telmisartan</td>\n",
       "      <td>0.1</td>\n",
       "    </tr>\n",
       "    <tr>\n",
       "      <th>1</th>\n",
       "      <td>DB00575</td>\n",
       "      <td>Clonidine</td>\n",
       "      <td>DB00806</td>\n",
       "      <td>Pentoxifylline</td>\n",
       "      <td>0.1</td>\n",
       "    </tr>\n",
       "    <tr>\n",
       "      <th>2</th>\n",
       "      <td>DB01242</td>\n",
       "      <td>Clomipramine</td>\n",
       "      <td>DB08893</td>\n",
       "      <td>Mirabegron</td>\n",
       "      <td>0.1</td>\n",
       "    </tr>\n",
       "    <tr>\n",
       "      <th>3</th>\n",
       "      <td>DB01151</td>\n",
       "      <td>Desipramine</td>\n",
       "      <td>DB08883</td>\n",
       "      <td>Perampanel</td>\n",
       "      <td>0.1</td>\n",
       "    </tr>\n",
       "    <tr>\n",
       "      <th>4</th>\n",
       "      <td>DB01235</td>\n",
       "      <td>Levodopa</td>\n",
       "      <td>DB01275</td>\n",
       "      <td>Hydralazine</td>\n",
       "      <td>0.1</td>\n",
       "    </tr>\n",
       "  </tbody>\n",
       "</table>\n",
       "</div>"
      ],
      "text/plain": [
       "  drug_1_code   drug_1_name drug_2_code     drug_2_name  weight\n",
       "0     DB00862    Vardenafil     DB00966     Telmisartan     0.1\n",
       "1     DB00575     Clonidine     DB00806  Pentoxifylline     0.1\n",
       "2     DB01242  Clomipramine     DB08893      Mirabegron     0.1\n",
       "3     DB01151   Desipramine     DB08883      Perampanel     0.1\n",
       "4     DB01235      Levodopa     DB01275     Hydralazine     0.1"
      ]
     },
     "execution_count": 32,
     "metadata": {},
     "output_type": "execute_result"
    }
   ],
   "source": [
    "df_db_int['weight'] = 0.1\n",
    "df_db_int.head()"
   ]
  },
  {
   "cell_type": "code",
   "execution_count": 45,
   "metadata": {},
   "outputs": [
    {
     "ename": "KeyboardInterrupt",
     "evalue": "",
     "output_type": "error",
     "traceback": [
      "\u001b[1;31m---------------------------------------------------------------------------\u001b[0m",
      "\u001b[1;31mKeyboardInterrupt\u001b[0m                         Traceback (most recent call last)",
      "\u001b[1;32m<ipython-input-45-b6a39e57cd41>\u001b[0m in \u001b[0;36m<module>\u001b[1;34m\u001b[0m\n\u001b[0;32m     19\u001b[0m     \u001b[0mdb_net\u001b[0m\u001b[1;33m.\u001b[0m\u001b[0madd_node\u001b[0m\u001b[1;33m(\u001b[0m\u001b[0msrc\u001b[0m\u001b[1;33m,\u001b[0m \u001b[0msrc\u001b[0m\u001b[1;33m,\u001b[0m \u001b[0mtitle\u001b[0m\u001b[1;33m=\u001b[0m\u001b[0msrc\u001b[0m\u001b[1;33m)\u001b[0m\u001b[1;33m\u001b[0m\u001b[1;33m\u001b[0m\u001b[0m\n\u001b[0;32m     20\u001b[0m     \u001b[0mdb_net\u001b[0m\u001b[1;33m.\u001b[0m\u001b[0madd_node\u001b[0m\u001b[1;33m(\u001b[0m\u001b[0mdst\u001b[0m\u001b[1;33m,\u001b[0m \u001b[0mdst\u001b[0m\u001b[1;33m,\u001b[0m \u001b[0mtitle\u001b[0m\u001b[1;33m=\u001b[0m\u001b[0mdst\u001b[0m\u001b[1;33m)\u001b[0m\u001b[1;33m\u001b[0m\u001b[1;33m\u001b[0m\u001b[0m\n\u001b[1;32m---> 21\u001b[1;33m     \u001b[0mdb_net\u001b[0m\u001b[1;33m.\u001b[0m\u001b[0madd_edge\u001b[0m\u001b[1;33m(\u001b[0m\u001b[0msrc\u001b[0m\u001b[1;33m,\u001b[0m \u001b[0mdst\u001b[0m\u001b[1;33m,\u001b[0m \u001b[0mvalue\u001b[0m\u001b[1;33m=\u001b[0m\u001b[0mw\u001b[0m\u001b[1;33m)\u001b[0m\u001b[1;33m\u001b[0m\u001b[1;33m\u001b[0m\u001b[0m\n\u001b[0m\u001b[0;32m     22\u001b[0m \u001b[1;33m\u001b[0m\u001b[0m\n\u001b[0;32m     23\u001b[0m \u001b[1;31m# Add neighbor data to node hover data\u001b[0m\u001b[1;33m\u001b[0m\u001b[1;33m\u001b[0m\u001b[1;33m\u001b[0m\u001b[0m\n",
      "\u001b[1;32mC:\\ProgramData\\Anaconda3\\lib\\site-packages\\pyvis\\network.py\u001b[0m in \u001b[0;36madd_edge\u001b[1;34m(self, source, to, **options)\u001b[0m\n\u001b[0;32m    344\u001b[0m             \u001b[1;32mfor\u001b[0m \u001b[0me\u001b[0m \u001b[1;32min\u001b[0m \u001b[0mself\u001b[0m\u001b[1;33m.\u001b[0m\u001b[0medges\u001b[0m\u001b[1;33m:\u001b[0m\u001b[1;33m\u001b[0m\u001b[1;33m\u001b[0m\u001b[0m\n\u001b[0;32m    345\u001b[0m                 \u001b[0mfrm\u001b[0m \u001b[1;33m=\u001b[0m \u001b[0me\u001b[0m\u001b[1;33m[\u001b[0m\u001b[1;34m'from'\u001b[0m\u001b[1;33m]\u001b[0m\u001b[1;33m\u001b[0m\u001b[1;33m\u001b[0m\u001b[0m\n\u001b[1;32m--> 346\u001b[1;33m                 \u001b[0mdest\u001b[0m \u001b[1;33m=\u001b[0m \u001b[0me\u001b[0m\u001b[1;33m[\u001b[0m\u001b[1;34m'to'\u001b[0m\u001b[1;33m]\u001b[0m\u001b[1;33m\u001b[0m\u001b[1;33m\u001b[0m\u001b[0m\n\u001b[0m\u001b[0;32m    347\u001b[0m                 if (\n\u001b[0;32m    348\u001b[0m                     \u001b[1;33m(\u001b[0m\u001b[0msource\u001b[0m \u001b[1;33m==\u001b[0m \u001b[0mdest\u001b[0m \u001b[1;32mand\u001b[0m \u001b[0mto\u001b[0m \u001b[1;33m==\u001b[0m \u001b[0mfrm\u001b[0m\u001b[1;33m)\u001b[0m \u001b[1;32mor\u001b[0m\u001b[1;33m\u001b[0m\u001b[1;33m\u001b[0m\u001b[0m\n",
      "\u001b[1;31mKeyboardInterrupt\u001b[0m: "
     ]
    }
   ],
   "source": [
    "db_net = Network(height='500px', width='500px', \n",
    "                 bgcolor='white', font_color='blue',\n",
    "                 notebook=True)\n",
    "\n",
    "# set the physics layout of the network\n",
    "db_net.barnes_hut()\n",
    "\n",
    "sources = df_db_int['drug_1_name']\n",
    "targets = df_db_int['drug_2_name']\n",
    "weights = df_db_int['weight']\n",
    "\n",
    "edge_data = zip(sources, targets, weights)\n",
    "\n",
    "for e in edge_data:\n",
    "    src = e[0]\n",
    "    dst = e[1]\n",
    "    w = e[2]\n",
    "\n",
    "    db_net.add_node(src, src, title=src)\n",
    "    db_net.add_node(dst, dst, title=dst)\n",
    "    db_net.add_edge(src, dst, value=w)\n",
    "\n",
    "# Add neighbor data to node hover data\n",
    "# neighbor_map = db_net.get_adj_list()\n",
    "\n",
    "# for node in db_net.nodes:\n",
    "#     node['title'] += ' Neighbors:<br>' + '<br>'.join(neighbor_map[node['id']])\n",
    "#     node['value'] = len(neighbor_map[node['id']])\n",
    "\n",
    "db_net.show('drug_interactions_db.html')"
   ]
  },
  {
   "cell_type": "markdown",
   "metadata": {},
   "source": [
    "### 4. Narrow down data and network"
   ]
  },
  {
   "cell_type": "code",
   "execution_count": 42,
   "metadata": {},
   "outputs": [],
   "source": [
    "# Define list of oral medications for the common diseases: Diabetes, Hypertension and Hyperlipidemia\n",
    "dm_meds = ['Metformin', 'Linagliptin', 'Sitagliptin', 'Glibenclamide', 'Gliclazide',\n",
    "          'Glimepiride', 'Glipizide', 'Tolbutamide', 'Canagliflozin', 'Dapagliflozin',\n",
    "          'Empagliflozin', 'Dapagliflozin', 'Acarbose', 'Liraglutide']\n",
    "\n",
    "cardio_meds = ['Captopril', 'Enalapril', 'Lisinopril', 'Perindopril', 'Irbesartan',\n",
    "               'Losartan', 'Telmisartan', 'Valsartan', 'Candesartan', 'Atenolol', \n",
    "               'Bisoprolol', 'Carvedilol', 'Propranolol', 'Amlodipine', 'Diltiazem', \n",
    "               'Nifedipine', 'Verapamil', 'Bumetanide', 'Frusemide', 'Isosorbide',\n",
    "               'Hydrochlorothiazide', 'Spironolactone', 'Isosorbide Dinitrate', \n",
    "               'Isosorbide Mononitrate', 'Aspirin', 'Clopidogrel', 'Ticagrelor', \n",
    "               'Atorvastatin', 'Rosuvastatin', 'Simvastatin', 'Pravastatin']  \n",
    "\n",
    "random_meds = ['Metformin', 'Simvastatin', 'Lisinopril']"
   ]
  },
  {
   "cell_type": "code",
   "execution_count": 43,
   "metadata": {},
   "outputs": [
    {
     "data": {
      "text/html": [
       "<div>\n",
       "<style scoped>\n",
       "    .dataframe tbody tr th:only-of-type {\n",
       "        vertical-align: middle;\n",
       "    }\n",
       "\n",
       "    .dataframe tbody tr th {\n",
       "        vertical-align: top;\n",
       "    }\n",
       "\n",
       "    .dataframe thead th {\n",
       "        text-align: right;\n",
       "    }\n",
       "</style>\n",
       "<table border=\"1\" class=\"dataframe\">\n",
       "  <thead>\n",
       "    <tr style=\"text-align: right;\">\n",
       "      <th></th>\n",
       "      <th>drug_1_code</th>\n",
       "      <th>drug_1_name</th>\n",
       "      <th>drug_2_code</th>\n",
       "      <th>drug_2_name</th>\n",
       "      <th>weight</th>\n",
       "    </tr>\n",
       "  </thead>\n",
       "  <tbody>\n",
       "    <tr>\n",
       "      <th>0</th>\n",
       "      <td>DB00641</td>\n",
       "      <td>Simvastatin</td>\n",
       "      <td>DB09036</td>\n",
       "      <td>Siltuximab</td>\n",
       "      <td>0.1</td>\n",
       "    </tr>\n",
       "    <tr>\n",
       "      <th>1</th>\n",
       "      <td>DB00331</td>\n",
       "      <td>Metformin</td>\n",
       "      <td>DB00780</td>\n",
       "      <td>Phenelzine</td>\n",
       "      <td>0.1</td>\n",
       "    </tr>\n",
       "    <tr>\n",
       "      <th>2</th>\n",
       "      <td>DB00641</td>\n",
       "      <td>Simvastatin</td>\n",
       "      <td>DB06210</td>\n",
       "      <td>Eltrombopag</td>\n",
       "      <td>0.1</td>\n",
       "    </tr>\n",
       "    <tr>\n",
       "      <th>3</th>\n",
       "      <td>DB00331</td>\n",
       "      <td>Metformin</td>\n",
       "      <td>DB00794</td>\n",
       "      <td>Primidone</td>\n",
       "      <td>0.1</td>\n",
       "    </tr>\n",
       "    <tr>\n",
       "      <th>4</th>\n",
       "      <td>DB00641</td>\n",
       "      <td>Simvastatin</td>\n",
       "      <td>DB01039</td>\n",
       "      <td>Fenofibrate</td>\n",
       "      <td>0.1</td>\n",
       "    </tr>\n",
       "    <tr>\n",
       "      <th>...</th>\n",
       "      <td>...</td>\n",
       "      <td>...</td>\n",
       "      <td>...</td>\n",
       "      <td>...</td>\n",
       "      <td>...</td>\n",
       "    </tr>\n",
       "    <tr>\n",
       "      <th>308</th>\n",
       "      <td>DB00220</td>\n",
       "      <td>Nelfinavir</td>\n",
       "      <td>DB00331</td>\n",
       "      <td>Metformin</td>\n",
       "      <td>0.1</td>\n",
       "    </tr>\n",
       "    <tr>\n",
       "      <th>309</th>\n",
       "      <td>DB00237</td>\n",
       "      <td>Butabarbital</td>\n",
       "      <td>DB00722</td>\n",
       "      <td>Lisinopril</td>\n",
       "      <td>0.1</td>\n",
       "    </tr>\n",
       "    <tr>\n",
       "      <th>310</th>\n",
       "      <td>DB00331</td>\n",
       "      <td>Metformin</td>\n",
       "      <td>DB00783</td>\n",
       "      <td>Estradiol</td>\n",
       "      <td>0.1</td>\n",
       "    </tr>\n",
       "    <tr>\n",
       "      <th>311</th>\n",
       "      <td>DB00209</td>\n",
       "      <td>Trospium</td>\n",
       "      <td>DB00331</td>\n",
       "      <td>Metformin</td>\n",
       "      <td>0.1</td>\n",
       "    </tr>\n",
       "    <tr>\n",
       "      <th>312</th>\n",
       "      <td>DB00310</td>\n",
       "      <td>Chlorthalidone</td>\n",
       "      <td>DB00331</td>\n",
       "      <td>Metformin</td>\n",
       "      <td>0.1</td>\n",
       "    </tr>\n",
       "  </tbody>\n",
       "</table>\n",
       "<p>313 rows × 5 columns</p>\n",
       "</div>"
      ],
      "text/plain": [
       "    drug_1_code     drug_1_name drug_2_code  drug_2_name  weight\n",
       "0       DB00641     Simvastatin     DB09036   Siltuximab     0.1\n",
       "1       DB00331       Metformin     DB00780   Phenelzine     0.1\n",
       "2       DB00641     Simvastatin     DB06210  Eltrombopag     0.1\n",
       "3       DB00331       Metformin     DB00794    Primidone     0.1\n",
       "4       DB00641     Simvastatin     DB01039  Fenofibrate     0.1\n",
       "..          ...             ...         ...          ...     ...\n",
       "308     DB00220      Nelfinavir     DB00331    Metformin     0.1\n",
       "309     DB00237    Butabarbital     DB00722   Lisinopril     0.1\n",
       "310     DB00331       Metformin     DB00783    Estradiol     0.1\n",
       "311     DB00209        Trospium     DB00331    Metformin     0.1\n",
       "312     DB00310  Chlorthalidone     DB00331    Metformin     0.1\n",
       "\n",
       "[313 rows x 5 columns]"
      ]
     },
     "execution_count": 43,
     "metadata": {},
     "output_type": "execute_result"
    }
   ],
   "source": [
    "# Focus on specific meds\n",
    "df_db_int_sm = df_db_int.loc[df_db_int['drug_1_name'].isin(random_meds) | df_db_int['drug_2_name'].isin(random_meds)]\n",
    "df_db_int_sm = df_db_int_sm.reset_index(drop=True)\n",
    "df_db_int_sm"
   ]
  },
  {
   "cell_type": "code",
   "execution_count": 49,
   "metadata": {},
   "outputs": [
    {
     "data": {
      "text/html": [
       "\n",
       "        <iframe\n",
       "            width=\"100%\"\n",
       "            height=\"700px\"\n",
       "            src=\"drug_interactions_db.html\"\n",
       "            frameborder=\"0\"\n",
       "            allowfullscreen\n",
       "        ></iframe>\n",
       "        "
      ],
      "text/plain": [
       "<IPython.lib.display.IFrame at 0x20c2cf2f490>"
      ]
     },
     "execution_count": 49,
     "metadata": {},
     "output_type": "execute_result"
    }
   ],
   "source": [
    "db_net_sm = Network(height='700px', width='100%', \n",
    "                    bgcolor='white', font_color='black',\n",
    "                    notebook=True)\n",
    "\n",
    "# set the physics layout of the network\n",
    "db_net_sm.barnes_hut()\n",
    "\n",
    "sources = df_db_int_sm['drug_1_name']\n",
    "targets = df_db_int_sm['drug_2_name']\n",
    "weights = df_db_int_sm['weight']\n",
    "\n",
    "edge_data = zip(sources, targets, weights)\n",
    "\n",
    "for e in edge_data:\n",
    "    src = e[0]\n",
    "    dst = e[1]\n",
    "    w = e[2]\n",
    "\n",
    "    db_net_sm.add_node(src, src, title=src)\n",
    "    db_net_sm.add_node(dst, dst, title=dst)\n",
    "    db_net_sm.add_edge(src, dst, value=w)\n",
    "\n",
    "# Add neighbor data to node hover data\n",
    "neighbor_map = db_net_sm.get_adj_list()\n",
    "\n",
    "for node in db_net_sm.nodes:\n",
    "    node['title'] += ' <b>Neighbors:</b><br>' + '<br>'.join(neighbor_map[node['id']])\n",
    "    node['value'] = len(neighbor_map[node['id']])\n",
    "\n",
    "db_net_sm.show('drug_interactions_db.html')"
   ]
  },
  {
   "cell_type": "code",
   "execution_count": null,
   "metadata": {},
   "outputs": [],
   "source": []
  }
 ],
 "metadata": {
  "kernelspec": {
   "display_name": "Python 3",
   "language": "python",
   "name": "python3"
  },
  "language_info": {
   "codemirror_mode": {
    "name": "ipython",
    "version": 3
   },
   "file_extension": ".py",
   "mimetype": "text/x-python",
   "name": "python",
   "nbconvert_exporter": "python",
   "pygments_lexer": "ipython3",
   "version": "3.8.3"
  }
 },
 "nbformat": 4,
 "nbformat_minor": 4
}
